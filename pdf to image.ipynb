{
 "cells": [
  {
   "cell_type": "code",
   "execution_count": null,
   "metadata": {},
   "outputs": [],
   "source": [
    "'''This small automated script can easily retrieve entire PDF pages and convert them into images.\n",
    "The script uses the popular PyMuPDF module, which is known for its PDF text extraction.'''\n",
    "\n",
    "# PDF to Images\n",
    "# pip install PyMuPDF\n",
    "# pip install fitz\n",
    "import fitz\n",
    "def pdf_to_images(pdf_file):\n",
    "    doc = fitz.open(pdf_file)\n",
    "    for p in doc:\n",
    "        pix = p.get_pixmap()\n",
    "        output = f\"page{p.number}.png\"\n",
    "        print(pix)\n",
    "        print(output)\n",
    "        # pix.writePNG(output)\n",
    "pdf_to_images(\"Application.pdf\")"
   ]
  }
 ],
 "metadata": {
  "kernelspec": {
   "display_name": "Python 3",
   "language": "python",
   "name": "python3"
  },
  "language_info": {
   "codemirror_mode": {
    "name": "ipython",
    "version": 3
   },
   "file_extension": ".py",
   "mimetype": "text/x-python",
   "name": "python",
   "nbconvert_exporter": "python",
   "pygments_lexer": "ipython3",
   "version": "3.8.9"
  },
  "orig_nbformat": 4
 },
 "nbformat": 4,
 "nbformat_minor": 2
}
