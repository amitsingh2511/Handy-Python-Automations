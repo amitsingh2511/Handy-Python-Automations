{
 "cells": [
  {
   "cell_type": "code",
   "execution_count": null,
   "id": "6025c19d",
   "metadata": {},
   "outputs": [],
   "source": [
    "'''This great script will help you correct spelling errors in your text words.\n",
    "You can find the script below which will tell you how to fix single or multiple words in a sentence.'''\n",
    "\n",
    "# Spell Fixer\n",
    "# pip install textblob\n",
    "from textblob import *\n",
    "# Fixing Paragraph Spells\n",
    "def fix_paragraph_words(paragraph):\n",
    "    sentence = TextBlob(paragraph)\n",
    "    correction = sentence.correct()\n",
    "    print(correction)\n",
    "# Fixing Words Spells\n",
    "def fix_word_spell(word):\n",
    "    word = Word(word)\n",
    "    correction = word.correct()\n",
    "    print(correction)\n",
    "fix_paragraph_words(\"This is sammple tet!!\")\n",
    "fix_word_spell(\"maangoo\")"
   ]
  }
 ],
 "metadata": {
  "kernelspec": {
   "display_name": "Python 3 (ipykernel)",
   "language": "python",
   "name": "python3"
  },
  "language_info": {
   "codemirror_mode": {
    "name": "ipython",
    "version": 3
   },
   "file_extension": ".py",
   "mimetype": "text/x-python",
   "name": "python",
   "nbconvert_exporter": "python",
   "pygments_lexer": "ipython3",
   "version": "3.8.9"
  }
 },
 "nbformat": 4,
 "nbformat_minor": 5
}
