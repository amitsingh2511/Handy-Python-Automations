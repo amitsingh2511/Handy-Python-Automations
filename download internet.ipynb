{
 "cells": [
  {
   "cell_type": "code",
   "execution_count": null,
   "metadata": {},
   "outputs": [],
   "source": [
    "'''You may use download software to download photos or videos from the internet,\n",
    "but now you can create your own downloader using the Python IDM module.'''\n",
    "\n",
    "# Python Downloader\n",
    "# pip install internetdownloadmanager\n",
    "import internetdownloadmanager as idm\n",
    "def Downloader(url, output):\n",
    "    pydownloader = idm.Downloader(worker=20,\n",
    "                                part_size=1024*1024*10,\n",
    "                                resumable=True,)\n",
    "\n",
    "    pydownloader.download(url, output)\n",
    "Downloader(\"Link url\", \"image.jpg\")\n",
    "# Downloader(\"Link url\", \"video.mp4\")"
   ]
  }
 ],
 "metadata": {
  "kernelspec": {
   "display_name": "Python 3",
   "language": "python",
   "name": "python3"
  },
  "language_info": {
   "codemirror_mode": {
    "name": "ipython",
    "version": 3
   },
   "file_extension": ".py",
   "mimetype": "text/x-python",
   "name": "python",
   "nbconvert_exporter": "python",
   "pygments_lexer": "ipython3",
   "version": "3.8.9"
  },
  "orig_nbformat": 4
 },
 "nbformat": 4,
 "nbformat_minor": 2
}
